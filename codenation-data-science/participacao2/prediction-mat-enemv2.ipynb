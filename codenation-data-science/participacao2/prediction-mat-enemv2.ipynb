{
 "cells": [
  {
   "cell_type": "code",
   "execution_count": 1,
   "metadata": {},
   "outputs": [],
   "source": [
    "import pandas as pd\n",
    "import numpy as np\n",
    "import matplotlib.pyplot as plt\n",
    "import seaborn as sns\n",
    "\n",
    "from sklearn.model_selection import GridSearchCV\n",
    "from sklearn.metrics import mean_squared_error, r2_score\n",
    "from sklearn.model_selection import train_test_split\n",
    "from sklearn.model_selection import cross_val_score\n",
    "from sklearn import linear_model\n",
    "from sklearn.ensemble import RandomForestRegressor"
   ]
  },
  {
   "cell_type": "code",
   "execution_count": 2,
   "metadata": {},
   "outputs": [],
   "source": [
    "x_train = pd.read_csv('.\\\\data\\\\train.csv')\n",
    "x_test = pd.read_csv('.\\\\data\\\\test.csv')"
   ]
  },
  {
   "cell_type": "code",
   "execution_count": 3,
   "metadata": {},
   "outputs": [
    {
     "name": "stdout",
     "output_type": "stream",
     "text": [
      "Número de colunas são: \n",
      "Dados de treino 167\n",
      "Dados de teste 47\n"
     ]
    }
   ],
   "source": [
    "print('Número de colunas são: ')\n",
    "print('Dados de treino {}\\nDados de teste {}'.format(len(x_train.columns), len(x_test.columns)))"
   ]
  },
  {
   "cell_type": "markdown",
   "metadata": {},
   "source": [
    "# Simulando ambiente de submissão ...\n",
    "\n",
    "Inicialmente a estrategia utilizada será de igualar os dados, isto é, deixar os dados de treino que contém mais colunas com o mesmo número que o teste com intuito de permitir uma simulação com os dados que serão encontrados na submissão"
   ]
  },
  {
   "cell_type": "code",
   "execution_count": 4,
   "metadata": {},
   "outputs": [],
   "source": [
    "# Armazenando a resposta e a presença em matematica\n",
    "y_train = x_train['NU_NOTA_MT']\n",
    "x_train_presenca_mt = x_train['TP_PRESENCA_MT']\n",
    "\n",
    "# Deixando o dataframe de treino igual ao de teste\n",
    "x_train = x_train[x_test.columns.tolist()]\n",
    "\n",
    "# Adicionando as notas de matemática novamente, para ánalise posterior\n",
    "x_train['NU_NOTA_MT'] = y_train\n",
    "x_train['TP_PRESENCA_MT'] = x_train_presenca_mt"
   ]
  },
  {
   "cell_type": "code",
   "execution_count": 5,
   "metadata": {},
   "outputs": [
    {
     "data": {
      "text/plain": [
       "4576"
      ]
     },
     "execution_count": 5,
     "metadata": {},
     "output_type": "execute_result"
    }
   ],
   "source": [
    "len(x_test)"
   ]
  },
  {
   "cell_type": "code",
   "execution_count": 6,
   "metadata": {},
   "outputs": [],
   "source": [
    "def renomear_colunas(dataframe):\n",
    "    lista_colunas = dataframe.columns.map(lambda x: x.lower())\n",
    "    tamanho_lista = len(lista_colunas)\n",
    "    for i in range(0, tamanho_lista):\n",
    "        dataframe.rename(columns={dataframe.columns[i]:lista_colunas[i]}, inplace=True)\n",
    "        \n",
    "renomear_colunas(x_train)\n",
    "renomear_colunas(x_test)"
   ]
  },
  {
   "cell_type": "markdown",
   "metadata": {},
   "source": [
    "# 2. Preprocessamento\n",
    "\n",
    "Etapa onde é realziado a abordagem sobre os dados para realização de limpeza, adição de novas informações e preenchimento de dados faltantes. A lista abaixo representa as atividades realizadas:\n",
    "\n",
    "<b>2.1 Analisando e criando novas informações</b><br>\n",
    "<b>2.2 Descobrindo padrões</b><br>\n",
    "<b>2.3 Conclusão</b><br>\n",
    "<b>2.3.1 Trabalhando dados faltantes (<i>outliers</i>)</b><br>"
   ]
  },
  {
   "cell_type": "markdown",
   "metadata": {},
   "source": [
    "## 2.1 Analisando e criando novas informações"
   ]
  },
  {
   "cell_type": "code",
   "execution_count": 7,
   "metadata": {},
   "outputs": [
    {
     "name": "stdout",
     "output_type": "stream",
     "text": [
      "13730\n",
      "13730\n",
      "13730\n"
     ]
    },
    {
     "data": {
      "text/plain": [
       "['nu_inscricao',\n",
       " 'co_uf_residencia',\n",
       " 'sg_uf_residencia',\n",
       " 'nu_idade',\n",
       " 'tp_sexo',\n",
       " 'tp_cor_raca',\n",
       " 'tp_nacionalidade',\n",
       " 'tp_st_conclusao',\n",
       " 'tp_ano_concluiu',\n",
       " 'tp_escola',\n",
       " 'tp_ensino',\n",
       " 'in_treineiro',\n",
       " 'tp_dependencia_adm_esc',\n",
       " 'in_baixa_visao',\n",
       " 'in_cegueira',\n",
       " 'in_surdez',\n",
       " 'in_dislexia',\n",
       " 'in_discalculia',\n",
       " 'in_sabatista',\n",
       " 'in_gestante',\n",
       " 'in_idoso',\n",
       " 'tp_presenca_cn',\n",
       " 'tp_presenca_ch',\n",
       " 'tp_presenca_lc',\n",
       " 'co_prova_cn',\n",
       " 'co_prova_ch',\n",
       " 'co_prova_lc',\n",
       " 'co_prova_mt',\n",
       " 'nu_nota_cn',\n",
       " 'nu_nota_ch',\n",
       " 'nu_nota_lc',\n",
       " 'tp_lingua',\n",
       " 'tp_status_redacao',\n",
       " 'nu_nota_comp1',\n",
       " 'nu_nota_comp2',\n",
       " 'nu_nota_comp3',\n",
       " 'nu_nota_comp4',\n",
       " 'nu_nota_comp5',\n",
       " 'nu_nota_redacao',\n",
       " 'q001',\n",
       " 'q002',\n",
       " 'q006',\n",
       " 'q024',\n",
       " 'q025',\n",
       " 'q026',\n",
       " 'q027',\n",
       " 'q047',\n",
       " 'nu_nota_mt',\n",
       " 'tp_presenca_mt',\n",
       " 'tp_st_conclusao_cat',\n",
       " 'tp_escola_cat',\n",
       " 'tp_dependencia_adm_esc_cat',\n",
       " 'tp_st_conclusao_cat_concluiu',\n",
       " 'tp_st_conclusao_cat_cursando',\n",
       " 'tp_st_conclusao_cat_em_conclusao',\n",
       " 'tp_st_conclusao_cat_nao_fazendo',\n",
       " 'tp_escola_cat_exterior',\n",
       " 'tp_escola_cat_nao_respondeu',\n",
       " 'tp_escola_cat_privada',\n",
       " 'tp_escola_cat_publica',\n",
       " 'tp_dependencia_adm_esc_cat_estadual',\n",
       " 'tp_dependencia_adm_esc_cat_federal',\n",
       " 'tp_dependencia_adm_esc_cat_municipal',\n",
       " 'tp_dependencia_adm_esc_cat_privada',\n",
       " 'tp_sexo_feminino',\n",
       " 'tp_sexo_masculino',\n",
       " 'q006_A',\n",
       " 'q006_B',\n",
       " 'q006_C',\n",
       " 'q006_D',\n",
       " 'q006_E',\n",
       " 'q006_F',\n",
       " 'q006_G',\n",
       " 'q006_H',\n",
       " 'q006_I',\n",
       " 'q006_J',\n",
       " 'q006_K',\n",
       " 'q006_L',\n",
       " 'q006_M',\n",
       " 'q006_N',\n",
       " 'q006_O',\n",
       " 'q006_P',\n",
       " 'q006_Q']"
      ]
     },
     "execution_count": 7,
     "metadata": {},
     "output_type": "execute_result"
    }
   ],
   "source": [
    "def categoria_status_conclusao(status):\n",
    "    # 1 Já concluí o Ensino Médio, 2 Estou cursando e concluirei o Ensino Médio em 2016\n",
    "    # 3 Estou cursando e concluirei o Ensino Médio após 2016, 4 Não concluí e não estou cursando o Ensino Médio \n",
    "    if status == 1:\n",
    "        return 'concluiu'\n",
    "    elif status == 2:\n",
    "        return 'em_conclusao' \n",
    "    elif status == 3:\n",
    "        return 'cursando'\n",
    "    elif status == 4:\n",
    "        return 'nao_fazendo'\n",
    "    \n",
    "def categoria_tipo_escola(tp_escola):\n",
    "    # 1 Não Respondeu, 2 Pública, 3 Privada, 4 Exterior\n",
    "    if tp_escola == 1:\n",
    "        return 'nao_respondeu'\n",
    "    elif tp_escola == 2:\n",
    "        return 'publica'\n",
    "    elif tp_escola == 3:\n",
    "        return 'privada'\n",
    "    elif tp_escola == 4:\n",
    "        return 'exterior'\n",
    "    \n",
    "def dependencia_administrativa(dependencia):\n",
    "    # 1 Federal, 2 Estadual, 3 Municipal, 4 Privada\n",
    "    if dependencia == 1:\n",
    "        return 'federal'\n",
    "    elif dependencia == 2:\n",
    "        return 'estadual'\n",
    "    elif dependencia == 3:\n",
    "        return 'municipal'\n",
    "    elif dependencia == 4:\n",
    "        return 'privada'\n",
    "\n",
    "def pre_processamento(dataframe):\n",
    "    df_proc = dataframe.copy()\n",
    "    print(len(df_proc))\n",
    "    # Adicionando ao dado original as novas variáveis categoricas\n",
    "    df_proc['tp_st_conclusao_cat'] = df_proc.tp_st_conclusao.apply(lambda x: categoria_status_conclusao(x))\n",
    "    df_proc['tp_escola_cat'] = df_proc.tp_escola.apply(lambda x: categoria_tipo_escola(x))\n",
    "    df_proc['tp_dependencia_adm_esc_cat'] = df_proc.tp_dependencia_adm_esc.apply(lambda x: dependencia_administrativa(x))\n",
    "    df_proc['tp_sexo'] = df_proc['tp_sexo'].apply(lambda c: 'masculino' if c == 'M' else 'feminino')\n",
    "    print(len(df_proc))\n",
    "    # https://pandas.pydata.org/pandas-docs/stable/reference/api/pandas.get_dummies.html\n",
    "    # https://scikit-learn.org/stable/modules/generated/sklearn.preprocessing.OneHotEncoder.html\n",
    "    \n",
    "    dummy_features = ['tp_st_conclusao_cat', 'tp_escola_cat', 'tp_dependencia_adm_esc_cat', 'tp_sexo', 'q006']\n",
    "    df_proc = pd.concat([df_proc, pd.get_dummies(df_proc[dummy_features], prefix=dummy_features)], axis = 1)\n",
    "    print(len(df_proc))\n",
    "    return df_proc\n",
    "\n",
    "x_train = pre_processamento(x_train)\n",
    "list(x_train.columns)"
   ]
  },
  {
   "cell_type": "code",
   "execution_count": 8,
   "metadata": {},
   "outputs": [
    {
     "data": {
      "text/html": [
       "<div>\n",
       "<style scoped>\n",
       "    .dataframe tbody tr th:only-of-type {\n",
       "        vertical-align: middle;\n",
       "    }\n",
       "\n",
       "    .dataframe tbody tr th {\n",
       "        vertical-align: top;\n",
       "    }\n",
       "\n",
       "    .dataframe thead th {\n",
       "        text-align: right;\n",
       "    }\n",
       "</style>\n",
       "<table border=\"1\" class=\"dataframe\">\n",
       "  <thead>\n",
       "    <tr style=\"text-align: right;\">\n",
       "      <th></th>\n",
       "      <th>nu_nota_mt</th>\n",
       "      <th>nu_nota_cn</th>\n",
       "      <th>nu_nota_ch</th>\n",
       "      <th>nu_nota_lc</th>\n",
       "      <th>nu_nota_redacao</th>\n",
       "    </tr>\n",
       "  </thead>\n",
       "  <tbody>\n",
       "    <tr>\n",
       "      <th>0</th>\n",
       "      <td>399.4</td>\n",
       "      <td>436.3</td>\n",
       "      <td>495.4</td>\n",
       "      <td>581.2</td>\n",
       "      <td>520.0</td>\n",
       "    </tr>\n",
       "    <tr>\n",
       "      <th>1</th>\n",
       "      <td>459.8</td>\n",
       "      <td>474.5</td>\n",
       "      <td>544.1</td>\n",
       "      <td>599.0</td>\n",
       "      <td>580.0</td>\n",
       "    </tr>\n",
       "    <tr>\n",
       "      <th>2</th>\n",
       "      <td>NaN</td>\n",
       "      <td>NaN</td>\n",
       "      <td>NaN</td>\n",
       "      <td>NaN</td>\n",
       "      <td>NaN</td>\n",
       "    </tr>\n",
       "    <tr>\n",
       "      <th>3</th>\n",
       "      <td>NaN</td>\n",
       "      <td>NaN</td>\n",
       "      <td>NaN</td>\n",
       "      <td>NaN</td>\n",
       "      <td>NaN</td>\n",
       "    </tr>\n",
       "    <tr>\n",
       "      <th>4</th>\n",
       "      <td>NaN</td>\n",
       "      <td>NaN</td>\n",
       "      <td>NaN</td>\n",
       "      <td>NaN</td>\n",
       "      <td>NaN</td>\n",
       "    </tr>\n",
       "    <tr>\n",
       "      <th>...</th>\n",
       "      <td>...</td>\n",
       "      <td>...</td>\n",
       "      <td>...</td>\n",
       "      <td>...</td>\n",
       "      <td>...</td>\n",
       "    </tr>\n",
       "    <tr>\n",
       "      <th>13725</th>\n",
       "      <td>403.2</td>\n",
       "      <td>438.2</td>\n",
       "      <td>419.7</td>\n",
       "      <td>394.5</td>\n",
       "      <td>440.0</td>\n",
       "    </tr>\n",
       "    <tr>\n",
       "      <th>13726</th>\n",
       "      <td>452.4</td>\n",
       "      <td>423.8</td>\n",
       "      <td>557.9</td>\n",
       "      <td>533.0</td>\n",
       "      <td>560.0</td>\n",
       "    </tr>\n",
       "    <tr>\n",
       "      <th>13727</th>\n",
       "      <td>398.0</td>\n",
       "      <td>460.5</td>\n",
       "      <td>528.9</td>\n",
       "      <td>569.3</td>\n",
       "      <td>600.0</td>\n",
       "    </tr>\n",
       "    <tr>\n",
       "      <th>13728</th>\n",
       "      <td>386.6</td>\n",
       "      <td>422.5</td>\n",
       "      <td>621.7</td>\n",
       "      <td>569.0</td>\n",
       "      <td>460.0</td>\n",
       "    </tr>\n",
       "    <tr>\n",
       "      <th>13729</th>\n",
       "      <td>428.9</td>\n",
       "      <td>488.7</td>\n",
       "      <td>575.3</td>\n",
       "      <td>565.9</td>\n",
       "      <td>520.0</td>\n",
       "    </tr>\n",
       "  </tbody>\n",
       "</table>\n",
       "<p>13730 rows × 5 columns</p>\n",
       "</div>"
      ],
      "text/plain": [
       "       nu_nota_mt  nu_nota_cn  nu_nota_ch  nu_nota_lc  nu_nota_redacao\n",
       "0           399.4       436.3       495.4       581.2            520.0\n",
       "1           459.8       474.5       544.1       599.0            580.0\n",
       "2             NaN         NaN         NaN         NaN              NaN\n",
       "3             NaN         NaN         NaN         NaN              NaN\n",
       "4             NaN         NaN         NaN         NaN              NaN\n",
       "...           ...         ...         ...         ...              ...\n",
       "13725       403.2       438.2       419.7       394.5            440.0\n",
       "13726       452.4       423.8       557.9       533.0            560.0\n",
       "13727       398.0       460.5       528.9       569.3            600.0\n",
       "13728       386.6       422.5       621.7       569.0            460.0\n",
       "13729       428.9       488.7       575.3       565.9            520.0\n",
       "\n",
       "[13730 rows x 5 columns]"
      ]
     },
     "execution_count": 8,
     "metadata": {},
     "output_type": "execute_result"
    }
   ],
   "source": [
    "vars_notas = ['nu_nota_mt','nu_nota_cn', 'nu_nota_ch', 'nu_nota_lc','nu_nota_redacao']\n",
    "x_train[vars_notas]"
   ]
  },
  {
   "cell_type": "code",
   "execution_count": 9,
   "metadata": {},
   "outputs": [],
   "source": [
    "def correlations_plot(dataframe, corr_columns):\n",
    "    dfcorr = dataframe.loc[:, corr_columns]\n",
    "    corr = dfcorr.corr()\n",
    "    sns.heatmap(corr, vmin=0, vmax=1, annot=True, cmap=sns.color_palette(\"BrBG\", 100))"
   ]
  },
  {
   "cell_type": "markdown",
   "metadata": {},
   "source": [
    "## 2.2 Descobrindo padrões\n",
    "\n",
    "A primeira informação que eu gostaria de saber é a correlação entre as provas e a respectiva presença."
   ]
  },
  {
   "cell_type": "code",
   "execution_count": 10,
   "metadata": {},
   "outputs": [
    {
     "data": {
      "text/html": [
       "<div>\n",
       "<style scoped>\n",
       "    .dataframe tbody tr th:only-of-type {\n",
       "        vertical-align: middle;\n",
       "    }\n",
       "\n",
       "    .dataframe tbody tr th {\n",
       "        vertical-align: top;\n",
       "    }\n",
       "\n",
       "    .dataframe thead th {\n",
       "        text-align: right;\n",
       "    }\n",
       "</style>\n",
       "<table border=\"1\" class=\"dataframe\">\n",
       "  <thead>\n",
       "    <tr style=\"text-align: right;\">\n",
       "      <th></th>\n",
       "      <th>count</th>\n",
       "      <th>mean</th>\n",
       "      <th>std</th>\n",
       "      <th>min</th>\n",
       "      <th>25%</th>\n",
       "      <th>50%</th>\n",
       "      <th>75%</th>\n",
       "      <th>max</th>\n",
       "    </tr>\n",
       "  </thead>\n",
       "  <tbody>\n",
       "    <tr>\n",
       "      <th>tp_presenca_cn</th>\n",
       "      <td>13730.0</td>\n",
       "      <td>0.754479</td>\n",
       "      <td>0.431932</td>\n",
       "      <td>0.0</td>\n",
       "      <td>1.0</td>\n",
       "      <td>1.0</td>\n",
       "      <td>1.0</td>\n",
       "      <td>2.0</td>\n",
       "    </tr>\n",
       "    <tr>\n",
       "      <th>tp_presenca_ch</th>\n",
       "      <td>13730.0</td>\n",
       "      <td>0.754479</td>\n",
       "      <td>0.431932</td>\n",
       "      <td>0.0</td>\n",
       "      <td>1.0</td>\n",
       "      <td>1.0</td>\n",
       "      <td>1.0</td>\n",
       "      <td>2.0</td>\n",
       "    </tr>\n",
       "    <tr>\n",
       "      <th>tp_presenca_lc</th>\n",
       "      <td>13730.0</td>\n",
       "      <td>0.738747</td>\n",
       "      <td>0.440162</td>\n",
       "      <td>0.0</td>\n",
       "      <td>0.0</td>\n",
       "      <td>1.0</td>\n",
       "      <td>1.0</td>\n",
       "      <td>2.0</td>\n",
       "    </tr>\n",
       "    <tr>\n",
       "      <th>tp_presenca_mt</th>\n",
       "      <td>13730.0</td>\n",
       "      <td>0.738747</td>\n",
       "      <td>0.440162</td>\n",
       "      <td>0.0</td>\n",
       "      <td>0.0</td>\n",
       "      <td>1.0</td>\n",
       "      <td>1.0</td>\n",
       "      <td>2.0</td>\n",
       "    </tr>\n",
       "  </tbody>\n",
       "</table>\n",
       "</div>"
      ],
      "text/plain": [
       "                  count      mean       std  min  25%  50%  75%  max\n",
       "tp_presenca_cn  13730.0  0.754479  0.431932  0.0  1.0  1.0  1.0  2.0\n",
       "tp_presenca_ch  13730.0  0.754479  0.431932  0.0  1.0  1.0  1.0  2.0\n",
       "tp_presenca_lc  13730.0  0.738747  0.440162  0.0  0.0  1.0  1.0  2.0\n",
       "tp_presenca_mt  13730.0  0.738747  0.440162  0.0  0.0  1.0  1.0  2.0"
      ]
     },
     "execution_count": 10,
     "metadata": {},
     "output_type": "execute_result"
    }
   ],
   "source": [
    "vars_presenca = ['tp_presenca_cn', 'tp_presenca_ch', 'tp_presenca_lc', 'tp_presenca_mt']\n",
    "x_train[vars_presenca].describe().T"
   ]
  },
  {
   "cell_type": "code",
   "execution_count": 11,
   "metadata": {},
   "outputs": [
    {
     "data": {
      "image/png": "[encoded data removed]",
      "text/plain": [
       "<Figure size 432x288 with 2 Axes>"
      ]
     },
     "metadata": {
      "needs_background": "light"
     },
     "output_type": "display_data"
    }
   ],
   "source": [
    "correlations_plot(x_train, vars_presenca)"
   ]
  },
  {
   "cell_type": "markdown",
   "metadata": {},
   "source": [
    "### Analisar a nota da redação"
   ]
  },
  {
   "cell_type": "code",
   "execution_count": 12,
   "metadata": {},
   "outputs": [
    {
     "name": "stdout",
     "output_type": "stream",
     "text": [
      "<class 'pandas.core.frame.DataFrame'>\n",
      "RangeIndex: 13730 entries, 0 to 13729\n",
      "Data columns (total 7 columns):\n",
      " #   Column             Non-Null Count  Dtype  \n",
      "---  ------             --------------  -----  \n",
      " 0   tp_status_redacao  10133 non-null  float64\n",
      " 1   nu_nota_comp1      10133 non-null  float64\n",
      " 2   nu_nota_comp2      10133 non-null  float64\n",
      " 3   nu_nota_comp3      10133 non-null  float64\n",
      " 4   nu_nota_comp4      10133 non-null  float64\n",
      " 5   nu_nota_comp5      10133 non-null  float64\n",
      " 6   nu_nota_redacao    10133 non-null  float64\n",
      "dtypes: float64(7)\n",
      "memory usage: 751.0 KB\n"
     ]
    }
   ],
   "source": [
    "vars_redacao = ['tp_status_redacao', 'nu_nota_comp1', 'nu_nota_comp2', 'nu_nota_comp3',\n",
    "                'nu_nota_comp4', 'nu_nota_comp5', 'nu_nota_redacao']\n",
    "x_train_redacao = x_train[vars_redacao]\n",
    "x_train_redacao.info()"
   ]
  },
  {
   "cell_type": "code",
   "execution_count": 13,
   "metadata": {},
   "outputs": [
    {
     "data": {
      "text/html": [
       "<div>\n",
       "<style scoped>\n",
       "    .dataframe tbody tr th:only-of-type {\n",
       "        vertical-align: middle;\n",
       "    }\n",
       "\n",
       "    .dataframe tbody tr th {\n",
       "        vertical-align: top;\n",
       "    }\n",
       "\n",
       "    .dataframe thead th {\n",
       "        text-align: right;\n",
       "    }\n",
       "</style>\n",
       "<table border=\"1\" class=\"dataframe\">\n",
       "  <thead>\n",
       "    <tr style=\"text-align: right;\">\n",
       "      <th></th>\n",
       "      <th>count</th>\n",
       "      <th>mean</th>\n",
       "      <th>std</th>\n",
       "      <th>min</th>\n",
       "      <th>25%</th>\n",
       "      <th>50%</th>\n",
       "      <th>75%</th>\n",
       "      <th>max</th>\n",
       "    </tr>\n",
       "  </thead>\n",
       "  <tbody>\n",
       "    <tr>\n",
       "      <th>tp_status_redacao</th>\n",
       "      <td>10133.0</td>\n",
       "      <td>1.101747</td>\n",
       "      <td>0.700100</td>\n",
       "      <td>1.0</td>\n",
       "      <td>1.0</td>\n",
       "      <td>1.0</td>\n",
       "      <td>1.0</td>\n",
       "      <td>9.0</td>\n",
       "    </tr>\n",
       "    <tr>\n",
       "      <th>nu_nota_comp1</th>\n",
       "      <td>10133.0</td>\n",
       "      <td>119.811704</td>\n",
       "      <td>29.846017</td>\n",
       "      <td>0.0</td>\n",
       "      <td>120.0</td>\n",
       "      <td>120.0</td>\n",
       "      <td>140.0</td>\n",
       "      <td>200.0</td>\n",
       "    </tr>\n",
       "    <tr>\n",
       "      <th>nu_nota_comp2</th>\n",
       "      <td>10133.0</td>\n",
       "      <td>111.915918</td>\n",
       "      <td>33.737588</td>\n",
       "      <td>0.0</td>\n",
       "      <td>100.0</td>\n",
       "      <td>120.0</td>\n",
       "      <td>120.0</td>\n",
       "      <td>200.0</td>\n",
       "    </tr>\n",
       "    <tr>\n",
       "      <th>nu_nota_comp3</th>\n",
       "      <td>10133.0</td>\n",
       "      <td>106.824238</td>\n",
       "      <td>34.341349</td>\n",
       "      <td>0.0</td>\n",
       "      <td>80.0</td>\n",
       "      <td>120.0</td>\n",
       "      <td>120.0</td>\n",
       "      <td>200.0</td>\n",
       "    </tr>\n",
       "    <tr>\n",
       "      <th>nu_nota_comp4</th>\n",
       "      <td>10133.0</td>\n",
       "      <td>113.123951</td>\n",
       "      <td>33.480033</td>\n",
       "      <td>0.0</td>\n",
       "      <td>100.0</td>\n",
       "      <td>120.0</td>\n",
       "      <td>120.0</td>\n",
       "      <td>200.0</td>\n",
       "    </tr>\n",
       "    <tr>\n",
       "      <th>nu_nota_comp5</th>\n",
       "      <td>10133.0</td>\n",
       "      <td>77.372446</td>\n",
       "      <td>43.067140</td>\n",
       "      <td>0.0</td>\n",
       "      <td>40.0</td>\n",
       "      <td>80.0</td>\n",
       "      <td>100.0</td>\n",
       "      <td>200.0</td>\n",
       "    </tr>\n",
       "    <tr>\n",
       "      <th>nu_nota_redacao</th>\n",
       "      <td>10133.0</td>\n",
       "      <td>529.048258</td>\n",
       "      <td>154.294758</td>\n",
       "      <td>0.0</td>\n",
       "      <td>440.0</td>\n",
       "      <td>540.0</td>\n",
       "      <td>600.0</td>\n",
       "      <td>1000.0</td>\n",
       "    </tr>\n",
       "  </tbody>\n",
       "</table>\n",
       "</div>"
      ],
      "text/plain": [
       "                     count        mean         std  min    25%    50%    75%  \\\n",
       "tp_status_redacao  10133.0    1.101747    0.700100  1.0    1.0    1.0    1.0   \n",
       "nu_nota_comp1      10133.0  119.811704   29.846017  0.0  120.0  120.0  140.0   \n",
       "nu_nota_comp2      10133.0  111.915918   33.737588  0.0  100.0  120.0  120.0   \n",
       "nu_nota_comp3      10133.0  106.824238   34.341349  0.0   80.0  120.0  120.0   \n",
       "nu_nota_comp4      10133.0  113.123951   33.480033  0.0  100.0  120.0  120.0   \n",
       "nu_nota_comp5      10133.0   77.372446   43.067140  0.0   40.0   80.0  100.0   \n",
       "nu_nota_redacao    10133.0  529.048258  154.294758  0.0  440.0  540.0  600.0   \n",
       "\n",
       "                      max  \n",
       "tp_status_redacao     9.0  \n",
       "nu_nota_comp1       200.0  \n",
       "nu_nota_comp2       200.0  \n",
       "nu_nota_comp3       200.0  \n",
       "nu_nota_comp4       200.0  \n",
       "nu_nota_comp5       200.0  \n",
       "nu_nota_redacao    1000.0  "
      ]
     },
     "execution_count": 13,
     "metadata": {},
     "output_type": "execute_result"
    }
   ],
   "source": [
    "x_train_redacao.describe().T"
   ]
  },
  {
   "cell_type": "code",
   "execution_count": 14,
   "metadata": {},
   "outputs": [
    {
     "data": {
      "text/html": [
       "<div>\n",
       "<style scoped>\n",
       "    .dataframe tbody tr th:only-of-type {\n",
       "        vertical-align: middle;\n",
       "    }\n",
       "\n",
       "    .dataframe tbody tr th {\n",
       "        vertical-align: top;\n",
       "    }\n",
       "\n",
       "    .dataframe thead th {\n",
       "        text-align: right;\n",
       "    }\n",
       "</style>\n",
       "<table border=\"1\" class=\"dataframe\">\n",
       "  <thead>\n",
       "    <tr style=\"text-align: right;\">\n",
       "      <th></th>\n",
       "      <th>count</th>\n",
       "      <th>mean</th>\n",
       "      <th>std</th>\n",
       "      <th>min</th>\n",
       "      <th>25%</th>\n",
       "      <th>50%</th>\n",
       "      <th>75%</th>\n",
       "      <th>max</th>\n",
       "    </tr>\n",
       "  </thead>\n",
       "  <tbody>\n",
       "    <tr>\n",
       "      <th>tp_status_redacao</th>\n",
       "      <td>0.0</td>\n",
       "      <td>NaN</td>\n",
       "      <td>NaN</td>\n",
       "      <td>NaN</td>\n",
       "      <td>NaN</td>\n",
       "      <td>NaN</td>\n",
       "      <td>NaN</td>\n",
       "      <td>NaN</td>\n",
       "    </tr>\n",
       "    <tr>\n",
       "      <th>nu_nota_comp1</th>\n",
       "      <td>0.0</td>\n",
       "      <td>NaN</td>\n",
       "      <td>NaN</td>\n",
       "      <td>NaN</td>\n",
       "      <td>NaN</td>\n",
       "      <td>NaN</td>\n",
       "      <td>NaN</td>\n",
       "      <td>NaN</td>\n",
       "    </tr>\n",
       "    <tr>\n",
       "      <th>nu_nota_comp2</th>\n",
       "      <td>0.0</td>\n",
       "      <td>NaN</td>\n",
       "      <td>NaN</td>\n",
       "      <td>NaN</td>\n",
       "      <td>NaN</td>\n",
       "      <td>NaN</td>\n",
       "      <td>NaN</td>\n",
       "      <td>NaN</td>\n",
       "    </tr>\n",
       "    <tr>\n",
       "      <th>nu_nota_comp3</th>\n",
       "      <td>0.0</td>\n",
       "      <td>NaN</td>\n",
       "      <td>NaN</td>\n",
       "      <td>NaN</td>\n",
       "      <td>NaN</td>\n",
       "      <td>NaN</td>\n",
       "      <td>NaN</td>\n",
       "      <td>NaN</td>\n",
       "    </tr>\n",
       "    <tr>\n",
       "      <th>nu_nota_comp4</th>\n",
       "      <td>0.0</td>\n",
       "      <td>NaN</td>\n",
       "      <td>NaN</td>\n",
       "      <td>NaN</td>\n",
       "      <td>NaN</td>\n",
       "      <td>NaN</td>\n",
       "      <td>NaN</td>\n",
       "      <td>NaN</td>\n",
       "    </tr>\n",
       "    <tr>\n",
       "      <th>nu_nota_comp5</th>\n",
       "      <td>0.0</td>\n",
       "      <td>NaN</td>\n",
       "      <td>NaN</td>\n",
       "      <td>NaN</td>\n",
       "      <td>NaN</td>\n",
       "      <td>NaN</td>\n",
       "      <td>NaN</td>\n",
       "      <td>NaN</td>\n",
       "    </tr>\n",
       "    <tr>\n",
       "      <th>nu_nota_redacao</th>\n",
       "      <td>0.0</td>\n",
       "      <td>NaN</td>\n",
       "      <td>NaN</td>\n",
       "      <td>NaN</td>\n",
       "      <td>NaN</td>\n",
       "      <td>NaN</td>\n",
       "      <td>NaN</td>\n",
       "      <td>NaN</td>\n",
       "    </tr>\n",
       "  </tbody>\n",
       "</table>\n",
       "</div>"
      ],
      "text/plain": [
       "                   count  mean  std  min  25%  50%  75%  max\n",
       "tp_status_redacao    0.0   NaN  NaN  NaN  NaN  NaN  NaN  NaN\n",
       "nu_nota_comp1        0.0   NaN  NaN  NaN  NaN  NaN  NaN  NaN\n",
       "nu_nota_comp2        0.0   NaN  NaN  NaN  NaN  NaN  NaN  NaN\n",
       "nu_nota_comp3        0.0   NaN  NaN  NaN  NaN  NaN  NaN  NaN\n",
       "nu_nota_comp4        0.0   NaN  NaN  NaN  NaN  NaN  NaN  NaN\n",
       "nu_nota_comp5        0.0   NaN  NaN  NaN  NaN  NaN  NaN  NaN\n",
       "nu_nota_redacao      0.0   NaN  NaN  NaN  NaN  NaN  NaN  NaN"
      ]
     },
     "execution_count": 14,
     "metadata": {},
     "output_type": "execute_result"
    }
   ],
   "source": [
    "x_train_redacao = x_train[vars_redacao]\n",
    "x_train_redacao = x_train_redacao[x_train_redacao.tp_status_redacao.isna()]\n",
    "x_train_redacao.describe().T"
   ]
  },
  {
   "cell_type": "markdown",
   "metadata": {},
   "source": [
    "## 2.3 Conclusão\n",
    "\n",
    "A partir da análise da presença dos alunos pôde se descobrir que:\n",
    "\n",
    "[1] Alunos que realizaram matemática também fizeram linguagens;<br>\n",
    "[2] Alunos que realizaram ciências humanas fizeram ciências da natureza.\n",
    "\n",
    "<b>Com essa informação podemos preencher os dados faltantes (<i>outliers</i>) nos dados com zeros a nota de matemática sabendo a informação [1].</b>"
   ]
  },
  {
   "cell_type": "markdown",
   "metadata": {},
   "source": [
    "### 2.3.1 Preenchendo dados faltantes"
   ]
  },
  {
   "cell_type": "code",
   "execution_count": 15,
   "metadata": {},
   "outputs": [],
   "source": [
    "# https://pandas.pydata.org/pandas-docs/stable/user_guide/missing_data.html\n",
    "def executar_conclusao(dataframe, train):\n",
    "    df_conclusao = dataframe.copy()\n",
    "    if train:\n",
    "        df_conclusao.loc[df_conclusao.tp_presenca_lc.isin([0, 2]), ['nu_nota_mt', 'nu_nota_lc']] = 0\n",
    "    else:\n",
    "        df_conclusao.loc[df_conclusao.tp_presenca_lc.isin([0, 2]), ['nu_nota_lc']] = 0\n",
    "    df_conclusao.loc[df_conclusao.tp_presenca_ch.isin([0, 2]), ['nu_nota_cn', 'nu_nota_ch']] = 0\n",
    "    df_conclusao['nu_nota_redacao'].fillna(np.mean(x_train.nu_nota_redacao), inplace=True)\n",
    "    return df_conclusao\n",
    "\n",
    "x_train = executar_conclusao(x_train, True)"
   ]
  },
  {
   "cell_type": "code",
   "execution_count": 16,
   "metadata": {},
   "outputs": [
    {
     "data": {
      "image/png": "[encoded data removed]",
      "text/plain": [
       "<Figure size 432x288 with 2 Axes>"
      ]
     },
     "metadata": {
      "needs_background": "light"
     },
     "output_type": "display_data"
    }
   ],
   "source": [
    "correlations_plot(x_train, vars_notas)"
   ]
  },
  {
   "cell_type": "markdown",
   "metadata": {},
   "source": [
    "# Análise exploratória\n",
    "\n",
    "...\n"
   ]
  },
  {
   "cell_type": "code",
   "execution_count": 17,
   "metadata": {},
   "outputs": [
    {
     "data": {
      "image/png": "[encoded data removed]",
      "text/plain": [
       "<Figure size 864x288 with 1 Axes>"
      ]
     },
     "metadata": {
      "needs_background": "light"
     },
     "output_type": "display_data"
    }
   ],
   "source": [
    "plt.figure(figsize=(12, 4))\n",
    "ax = sns.scatterplot(x=\"nu_idade\", y=\"nu_nota_mt\", data=x_train)\n",
    "plt.xlabel('Idade')\n",
    "plt.ylabel('Nota')\n",
    "plt.title('Dispersão de notas por idade')\n",
    "plt.show()"
   ]
  },
  {
   "cell_type": "code",
   "execution_count": 18,
   "metadata": {},
   "outputs": [
    {
     "data": {
      "image/png": "[encoded data removed]",
      "text/plain": [
       "<Figure size 735x216 with 2 Axes>"
      ]
     },
     "metadata": {
      "needs_background": "light"
     },
     "output_type": "display_data"
    }
   ],
   "source": [
    "g = sns.FacetGrid(x_train, col=\"tp_sexo\", hue=\"tp_sexo\", aspect=1.5)\n",
    "g.map(plt.scatter, \"nu_idade\", \"nu_nota_mt\", alpha=.7)\n",
    "g.add_legend()\n",
    "g.axes[0,0].set_xlabel('Idade')\n",
    "g.axes[0,1].set_xlabel('Idade')\n",
    "g.axes[0,0].set_ylabel('Nota')\n",
    "\n",
    "plt.subplots_adjust(top=0.8)\n",
    "g.fig.suptitle('Distribuição de nota por idade e sexo');"
   ]
  },
  {
   "cell_type": "code",
   "execution_count": 19,
   "metadata": {},
   "outputs": [
    {
     "data": {
      "image/png": "[encoded data removed]",
      "text/plain": [
       "<Figure size 432x288 with 1 Axes>"
      ]
     },
     "metadata": {
      "needs_background": "light"
     },
     "output_type": "display_data"
    }
   ],
   "source": [
    "ax = sns.scatterplot(x=\"tp_cor_raca\", y=\"nu_nota_mt\", data=x_train)\n",
    "plt.xlabel('Idade')\n",
    "plt.ylabel('Nota')\n",
    "plt.title('Dispersão de notas por raça')\n",
    "plt.show()"
   ]
  },
  {
   "cell_type": "code",
   "execution_count": 20,
   "metadata": {},
   "outputs": [
    {
     "data": {
      "image/png": "[encoded data removed]",
      "text/plain": [
       "<Figure size 432x288 with 1 Axes>"
      ]
     },
     "metadata": {
      "needs_background": "light"
     },
     "output_type": "display_data"
    }
   ],
   "source": [
    "ax = sns.scatterplot(x=\"tp_st_conclusao_cat\", y=\"nu_nota_mt\", data=x_train)\n",
    "plt.xlabel('Status de conclusão')\n",
    "plt.ylabel('Nota')\n",
    "plt.title('Dispersão de notas por status de conclusão')\n",
    "plt.show()"
   ]
  },
  {
   "cell_type": "code",
   "execution_count": 21,
   "metadata": {},
   "outputs": [
    {
     "data": {
      "image/png": "[encoded data removed]",
      "text/plain": [
       "<Figure size 432x288 with 1 Axes>"
      ]
     },
     "metadata": {
      "needs_background": "light"
     },
     "output_type": "display_data"
    }
   ],
   "source": [
    "ax = sns.scatterplot(x=\"tp_escola_cat\", y=\"nu_nota_mt\", data=x_train)\n",
    "plt.xlabel('Idade')\n",
    "plt.ylabel('Nota')\n",
    "plt.title('Dispersão de notas por idade')\n",
    "plt.show()"
   ]
  },
  {
   "cell_type": "code",
   "execution_count": 22,
   "metadata": {},
   "outputs": [
    {
     "data": {
      "image/png": "[encoded data removed]",
      "text/plain": [
       "<Figure size 432x288 with 1 Axes>"
      ]
     },
     "metadata": {
      "needs_background": "light"
     },
     "output_type": "display_data"
    }
   ],
   "source": [
    "ax = sns.scatterplot(x=\"in_treineiro\", y=\"nu_nota_mt\", data=x_train)\n",
    "plt.xlabel('Idade')\n",
    "plt.ylabel('Nota')\n",
    "plt.title('Dispersão de notas para em treinamento')\n",
    "plt.show()"
   ]
  },
  {
   "cell_type": "code",
   "execution_count": 23,
   "metadata": {},
   "outputs": [
    {
     "data": {
      "image/png": "[encoded data removed]",
      "text/plain": [
       "<Figure size 432x288 with 1 Axes>"
      ]
     },
     "metadata": {
      "needs_background": "light"
     },
     "output_type": "display_data"
    }
   ],
   "source": [
    "ax = sns.scatterplot(x=\"tp_dependencia_adm_esc_cat\", y=\"nu_nota_mt\", data=x_train)\n",
    "plt.xlabel('Idade')\n",
    "plt.ylabel('Nota')\n",
    "plt.title('Dispersão de notas por idade')\n",
    "plt.show()"
   ]
  },
  {
   "cell_type": "markdown",
   "metadata": {},
   "source": [
    "# 3. Análise preditiva\n",
    "<b>3.1 Descrevendo as métricas</b><br>\n",
    "<b>3.2 Distribuição dos dados para teste e validação</b><br>\n",
    "<b>3.3 Busca por melhores parâmetros"
   ]
  },
  {
   "cell_type": "code",
   "execution_count": 24,
   "metadata": {},
   "outputs": [],
   "source": [
    "x_features = ['nu_nota_cn', 'nu_nota_ch', 'nu_nota_lc', 'nu_nota_redacao',\n",
    "              'tp_presenca_cn', 'tp_presenca_ch', 'tp_presenca_lc', 'tp_presenca_mt',\n",
    "             'tp_sexo_feminino','tp_sexo_masculino','nu_idade']\n",
    "    \n",
    "X = x_train[x_features]\n",
    "y = x_train['nu_nota_mt']\n",
    "train_data, test_data, train_label, test_label = train_test_split(X, y, test_size=0.5, shuffle=False)"
   ]
  },
  {
   "cell_type": "markdown",
   "metadata": {},
   "source": [
    "# https://towardsdatascience.com/random-forest-in-python-24d0893d51c0\n",
    "# https://scikit-learn.org/stable/modules/generated/sklearn.ensemble.GradientBoostingClassifier.html\n",
    "# https://towardsdatascience.com/hyperparameter-tuning-the-random-forest-in-python-using-scikit-learn-28d2aa77dd74\n",
    "# https://scikit-learn.org/stable/modules/generated/sklearn.ensemble.RandomForestClassifier.html\n",
    "\n",
    "model_randf = RandomForestRegressor(n_estimators = 1000, random_state = 42)\n",
    "scores = cross_val_score(model_randf, train_data, train_label, cv=5)\n",
    "print('Cross validation score: ', scores.mean())"
   ]
  },
  {
   "cell_type": "markdown",
   "metadata": {},
   "source": [
    "# GridSearch\n"
   ]
  },
  {
   "cell_type": "markdown",
   "metadata": {},
   "source": [
    "from sklearn.model_selection import GridSearchCV\n",
    "\n",
    "n_estimators = [int(x) for x in np.linspace(start = 10, stop = 1000, num = 10)]\n",
    "max_features = [None, 'auto', 'log2']\n",
    "max_depth = [None]+[int(x) for x in np.linspace(start = 1, stop = 100, num = 10)]\n",
    "min_samples_split = [2, 5, 10]\n",
    "min_samples_leaf = [1, 2, 4]\n",
    "bootstrap = [True, False]\n",
    "\n",
    "param_distributions = {'n_estimators': n_estimators,\n",
    "                       'max_features': max_features,\n",
    "                       'max_depth': max_depth,\n",
    "                       'min_samples_split': min_samples_split,\n",
    "                       'min_samples_leaf': min_samples_leaf,\n",
    "                       'bootstrap': bootstrap}\n",
    "                       \n",
    "model_randf = RandomForestRegressor(random_state = 42)\n",
    "clf = GridSearchCV(model_randf, param_grid = param_distributions, cv = 5, verbose=2, n_jobs=-1)\n",
    "clf.fit(train_data, train_label)"
   ]
  },
  {
   "cell_type": "markdown",
   "metadata": {},
   "source": [
    "print(clf.best_estimator_)\n",
    "print('\\nbest_params: {}\\nbest_score: {}'.format(clf.best_params_, clf.best_score_))"
   ]
  },
  {
   "cell_type": "markdown",
   "metadata": {},
   "source": [
    "# RandomizedSearchCV"
   ]
  },
  {
   "cell_type": "markdown",
   "metadata": {},
   "source": [
    "from sklearn.model_selection import RandomizedSearchCV\n",
    "\n",
    "n_estimators = [int(x) for x in np.linspace(start = 10, stop = 1000, num = 10)]\n",
    "max_features = [None, 'auto', 'log2']\n",
    "max_depth = [None]+[int(x) for x in np.linspace(start = 1, stop = 100, num = 10)]\n",
    "min_samples_split = [2, 5, 10]\n",
    "min_samples_leaf = [1, 2, 4]\n",
    "bootstrap = [True, False]\n",
    "\n",
    "param_distributions = {'n_estimators': n_estimators,\n",
    "                       'max_features': max_features,\n",
    "                       'max_depth': max_depth,\n",
    "                       'min_samples_split': min_samples_split,\n",
    "                       'min_samples_leaf': min_samples_leaf,\n",
    "                       'bootstrap': bootstrap}\n",
    "\n",
    "\n",
    "rf = RandomForestRegressor(random_state=42)\n",
    "\n",
    "rf_random = RandomizedSearchCV(estimator = rf, param_distributions = param_distributions, n_iter = 33,\n",
    "                               cv = 5, verbose=2, random_state=42, n_jobs=-1)\n",
    "# Fit the random search model\n",
    "rf_random.fit(train_data, train_label)\n",
    "\n",
    "\n",
    "print('best params: {}\\nbest score: {}'.format(rf_random.best_params_, rf_random.best_score_))"
   ]
  },
  {
   "cell_type": "markdown",
   "metadata": {},
   "source": [
    "# Melhor modelo"
   ]
  },
  {
   "cell_type": "code",
   "execution_count": 25,
   "metadata": {},
   "outputs": [
    {
     "data": {
      "text/plain": [
       "RandomForestRegressor(bootstrap=True, ccp_alpha=0.0, criterion='mse',\n",
       "                      max_depth=10, max_features='log2', max_leaf_nodes=None,\n",
       "                      max_samples=None, min_impurity_decrease=0.0,\n",
       "                      min_impurity_split=None, min_samples_leaf=2,\n",
       "                      min_samples_split=5, min_weight_fraction_leaf=0.0,\n",
       "                      n_estimators=1000, n_jobs=None, oob_score=False,\n",
       "                      random_state=42, verbose=0, warm_start=False)"
      ]
     },
     "execution_count": 25,
     "metadata": {},
     "output_type": "execute_result"
    }
   ],
   "source": [
    "model_rf = RandomForestRegressor(n_estimators=1000, \n",
    "                                 min_samples_split=5,\n",
    "                                 min_samples_leaf=2,\n",
    "                                 max_features='log2', \n",
    "                                 max_depth=10,\n",
    "                                 bootstrap=True,\n",
    "                                 random_state=42)\n",
    "\n",
    "\n",
    "model_rf.fit(train_data, train_label)"
   ]
  },
  {
   "cell_type": "code",
   "execution_count": 26,
   "metadata": {},
   "outputs": [
    {
     "name": "stdout",
     "output_type": "stream",
     "text": [
      "mean_squared_error: 4038.520625953254\n",
      "r2_score: 0.9233614843717283\n"
     ]
    }
   ],
   "source": [
    "pred = model_rf.predict(test_data)\n",
    "print('mean_squared_error: {}\\nr2_score: {}'.format(mean_squared_error(test_label, pred), r2_score(test_label, pred)))"
   ]
  },
  {
   "cell_type": "code",
   "execution_count": 27,
   "metadata": {},
   "outputs": [],
   "source": [
    "def comparar_notas(notas_corretas, notas_preditas, n_notas=10):\n",
    "    print('nota\\tpredição\\t\\tdiferença')\n",
    "    for i in range(n_notas):\n",
    "        print('{}\\t{}\\t{}'.format(notas_corretas[i], pred[i], notas_corretas[i]-pred[i]))\n",
    "\n",
    "def analisar_notas(notas_corretas, notas_preditas, max_diferenca=1):\n",
    "    n_notas = len(notas_corretas)\n",
    "    print('index\\tnota\\tpredição\\t\\tdiferença')\n",
    "    for i in range(0, n_notas):\n",
    "        if abs(notas_corretas[i]-pred[i]) > max_diferenca:\n",
    "            print('{}\\t{}\\t{}\\t{}'.format(i, notas_corretas[i], pred[i], notas_corretas[i]-pred[i]))\n",
    "\n",
    "#comparar_notas(test_label.tolist(), pred, 10)\n",
    "\n",
    "#analisar_notas(test_label.tolist(), pred, 200)"
   ]
  },
  {
   "cell_type": "markdown",
   "metadata": {},
   "source": [
    "# Submissão"
   ]
  },
  {
   "cell_type": "code",
   "execution_count": 1,
   "metadata": {
    "scrolled": true
   },
   "outputs": [
    {
     "ename": "NameError",
     "evalue": "name 'pre_processamento' is not defined",
     "output_type": "error",
     "traceback": [
      "\u001b[1;31m---------------------------------------------------------------------------\u001b[0m",
      "\u001b[1;31mNameError\u001b[0m                                 Traceback (most recent call last)",
      "\u001b[1;32m<ipython-input-1-69773f90bc38>\u001b[0m in \u001b[0;36m<module>\u001b[1;34m\u001b[0m\n\u001b[1;32m----> 1\u001b[1;33m \u001b[0mx_test\u001b[0m \u001b[1;33m=\u001b[0m \u001b[0mpre_processamento\u001b[0m\u001b[1;33m(\u001b[0m\u001b[0mx_test\u001b[0m\u001b[1;33m)\u001b[0m\u001b[1;33m\u001b[0m\u001b[1;33m\u001b[0m\u001b[0m\n\u001b[0m\u001b[0;32m      2\u001b[0m \u001b[0mx_test\u001b[0m \u001b[1;33m=\u001b[0m \u001b[0mexecutar_conclusao\u001b[0m\u001b[1;33m(\u001b[0m\u001b[0mx_test\u001b[0m\u001b[1;33m,\u001b[0m \u001b[1;32mFalse\u001b[0m\u001b[1;33m)\u001b[0m\u001b[1;33m\u001b[0m\u001b[1;33m\u001b[0m\u001b[0m\n\u001b[0;32m      3\u001b[0m \u001b[1;33m\u001b[0m\u001b[0m\n\u001b[0;32m      4\u001b[0m \u001b[0mx_test\u001b[0m\u001b[1;33m[\u001b[0m\u001b[1;34m'tp_presenca_mt'\u001b[0m\u001b[1;33m]\u001b[0m \u001b[1;33m=\u001b[0m \u001b[0mx_test\u001b[0m\u001b[1;33m[\u001b[0m\u001b[1;34m'tp_presenca_lc'\u001b[0m\u001b[1;33m]\u001b[0m\u001b[1;33m\u001b[0m\u001b[1;33m\u001b[0m\u001b[0m\n\u001b[0;32m      5\u001b[0m \u001b[0mX_\u001b[0m \u001b[1;33m=\u001b[0m \u001b[0mx_test\u001b[0m\u001b[1;33m[\u001b[0m\u001b[0mx_features\u001b[0m\u001b[1;33m]\u001b[0m\u001b[1;33m\u001b[0m\u001b[1;33m\u001b[0m\u001b[0m\n",
      "\u001b[1;31mNameError\u001b[0m: name 'pre_processamento' is not defined"
     ]
    }
   ],
   "source": [
    "x_test = pre_processamento(x_test)\n",
    "x_test = executar_conclusao(x_test, False)\n",
    "\n",
    "x_test['tp_presenca_mt'] = x_test['tp_presenca_lc']\n",
    "X_ = x_test[x_features]\n",
    "\n",
    "result = model_rf.predict(X_)\n",
    "\n",
    "answer = pd.DataFrame()\n",
    "answer['NU_INSCRICAO'] = x_test.nu_inscricao\n",
    "answer['NU_NOTA_MT'] = result\n",
    "\n",
    "answer.to_csv('answer.csv', index= False)"
   ]
  },
  {
   "cell_type": "code",
   "execution_count": 29,
   "metadata": {},
   "outputs": [
    {
     "data": {
      "text/html": [
       "<div>\n",
       "<style scoped>\n",
       "    .dataframe tbody tr th:only-of-type {\n",
       "        vertical-align: middle;\n",
       "    }\n",
       "\n",
       "    .dataframe tbody tr th {\n",
       "        vertical-align: top;\n",
       "    }\n",
       "\n",
       "    .dataframe thead th {\n",
       "        text-align: right;\n",
       "    }\n",
       "</style>\n",
       "<table border=\"1\" class=\"dataframe\">\n",
       "  <thead>\n",
       "    <tr style=\"text-align: right;\">\n",
       "      <th></th>\n",
       "      <th>NU_INSCRICAO</th>\n",
       "      <th>NU_NOTA_MT</th>\n",
       "    </tr>\n",
       "  </thead>\n",
       "  <tbody>\n",
       "    <tr>\n",
       "      <th>0</th>\n",
       "      <td>73ff9fcc02f0a99919906c942c2e1a1042cdcf98</td>\n",
       "      <td>422.335292</td>\n",
       "    </tr>\n",
       "    <tr>\n",
       "      <th>1</th>\n",
       "      <td>71a95f9f1b91a82c65ad94abbdf9f54e6066f968</td>\n",
       "      <td>441.648862</td>\n",
       "    </tr>\n",
       "    <tr>\n",
       "      <th>2</th>\n",
       "      <td>b38a03232f43b11c9d0788abaf060f7366053b6d</td>\n",
       "      <td>599.117920</td>\n",
       "    </tr>\n",
       "    <tr>\n",
       "      <th>3</th>\n",
       "      <td>70b682d9a3636be23f6120fa9d6b164eb3c6002d</td>\n",
       "      <td>0.006804</td>\n",
       "    </tr>\n",
       "    <tr>\n",
       "      <th>4</th>\n",
       "      <td>715494628a50142ce8cb17191cfe6d0f3cae0934</td>\n",
       "      <td>544.665953</td>\n",
       "    </tr>\n",
       "    <tr>\n",
       "      <th>...</th>\n",
       "      <td>...</td>\n",
       "      <td>...</td>\n",
       "    </tr>\n",
       "    <tr>\n",
       "      <th>4571</th>\n",
       "      <td>dac0f22429c7f8e3931d0abaf5dfc8e5c772a48b</td>\n",
       "      <td>444.068615</td>\n",
       "    </tr>\n",
       "    <tr>\n",
       "      <th>4572</th>\n",
       "      <td>a75fa8770257e7c9368d059fe53d9ef431f4bdef</td>\n",
       "      <td>489.796782</td>\n",
       "    </tr>\n",
       "    <tr>\n",
       "      <th>4573</th>\n",
       "      <td>655fa6306720ff16e825903b5422a46608a77545</td>\n",
       "      <td>690.981182</td>\n",
       "    </tr>\n",
       "    <tr>\n",
       "      <th>4574</th>\n",
       "      <td>1f4bc3e3d56212d500625bfe8ac78ccff4362293</td>\n",
       "      <td>467.929875</td>\n",
       "    </tr>\n",
       "    <tr>\n",
       "      <th>4575</th>\n",
       "      <td>adf0d15b54317b6564ef56dad2b775bbb0ef50cc</td>\n",
       "      <td>0.005777</td>\n",
       "    </tr>\n",
       "  </tbody>\n",
       "</table>\n",
       "<p>4576 rows × 2 columns</p>\n",
       "</div>"
      ],
      "text/plain": [
       "                                  NU_INSCRICAO  NU_NOTA_MT\n",
       "0     73ff9fcc02f0a99919906c942c2e1a1042cdcf98  422.335292\n",
       "1     71a95f9f1b91a82c65ad94abbdf9f54e6066f968  441.648862\n",
       "2     b38a03232f43b11c9d0788abaf060f7366053b6d  599.117920\n",
       "3     70b682d9a3636be23f6120fa9d6b164eb3c6002d    0.006804\n",
       "4     715494628a50142ce8cb17191cfe6d0f3cae0934  544.665953\n",
       "...                                        ...         ...\n",
       "4571  dac0f22429c7f8e3931d0abaf5dfc8e5c772a48b  444.068615\n",
       "4572  a75fa8770257e7c9368d059fe53d9ef431f4bdef  489.796782\n",
       "4573  655fa6306720ff16e825903b5422a46608a77545  690.981182\n",
       "4574  1f4bc3e3d56212d500625bfe8ac78ccff4362293  467.929875\n",
       "4575  adf0d15b54317b6564ef56dad2b775bbb0ef50cc    0.005777\n",
       "\n",
       "[4576 rows x 2 columns]"
      ]
     },
     "execution_count": 29,
     "metadata": {},
     "output_type": "execute_result"
    }
   ],
   "source": [
    "answer"
   ]
  }
 ],
 "metadata": {
  "kernelspec": {
   "display_name": "Python 3",
   "language": "python",
   "name": "python3"
  },
  "language_info": {
   "codemirror_mode": {
    "name": "ipython",
    "version": 3
   },
   "file_extension": ".py",
   "mimetype": "text/x-python",
   "name": "python",
   "nbconvert_exporter": "python",
   "pygments_lexer": "ipython3",
   "version": "3.7.6"
  }
 },
 "nbformat": 4,
 "nbformat_minor": 4
}
